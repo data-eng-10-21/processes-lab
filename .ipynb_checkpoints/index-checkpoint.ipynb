{
 "cells": [
  {
   "cell_type": "markdown",
   "metadata": {},
   "source": [
    "# Processes Lab"
   ]
  },
  {
   "cell_type": "markdown",
   "metadata": {},
   "source": [
    "### Introduction"
   ]
  },
  {
   "cell_type": "markdown",
   "metadata": {},
   "source": [
    "In this lesson, we'll practice working with processes.  Let's go."
   ]
  },
  {
   "cell_type": "markdown",
   "metadata": {},
   "source": [
    "### Exploring Processess"
   ]
  },
  {
   "cell_type": "markdown",
   "metadata": {},
   "source": [
    "Because there are generally a lot of processes running in our computer, we often view them in combination with the pipe to view specific processes.  For example, let's get started by only viewing the first five processes.  "
   ]
  },
  {
   "cell_type": "code",
   "execution_count": 8,
   "metadata": {},
   "outputs": [
    {
     "name": "stdout",
     "output_type": "stream",
     "text": [
      "USER               PID  %CPU %MEM      VSZ    RSS   TT  STAT STARTED      TIME COMMAND\n",
      "jeff              1401  10.8  0.2  6554064  16544   ??  S    Sun03PM 137:29.63 com.docker.hyperkit -A -u -F vms/0/hyperkit.pid -c 2 -m 2048M -s 0:0,hostbridge -s 31,lpc -s 1:0,virtio-vpnkit,path=vpnkit.eth.sock,uuid=b7f764a3-aebc-4f9e-b96d-f889c73e65ad -U 36fb37aa-cad2-49b6-a57a-5564b49c36d4 -s 2:0,virtio-blk,/Users/jeff/Library/Containers/com.docker.docker/Data/vms/0/data/Docker.raw -s 3,virtio-sock,guest_cid=3,path=vms/0,guest_forwards=2376;1525 -s 4,ahci-cd,/Applications/Docker.app/Contents/Resources/linuxkit/docker-desktop.iso -s 5,virtio-rnd -l com1,null,asl,log=vms/0/console-ring -f bootrom,/Applications/Docker.app/Contents/Resources/uefi/UEFI.fd,,\n",
      "_windowserver      241   6.1  1.1  7030376  91104   ??  Ss   Sun03PM  84:26.94 /System/Library/PrivateFrameworks/SkyLight.framework/Resources/WindowServer -daemon\n",
      "jeff              8311   5.5  2.7  9017764 224652   ??  R    11:25AM  18:31.31 /Applications/Google Chrome.app/Contents/Frameworks/Google Chrome Framework.framework/Versions/87.0.4280.141/Helpers/Google Chrome Helper (Renderer).app/Contents/MacOS/Google Chrome Helper (Renderer) --type=renderer --field-trial-handle=1718379636,9398332179242830877,3375792530959781848,131072 --lang=en-US --num-raster-threads=2 --enable-zero-copy --enable-gpu-memory-buffer-compositor-resources --enable-main-frame-before-activation --renderer-client-id=183 --no-v8-untrusted-code-mitigations --shared-files --seatbelt-client=128\n",
      "jeff              6769   3.2  3.5  5384652 294252   ??  S    11:11PM  28:41.00 /Applications/Google Chrome.app/Contents/MacOS/Google Chrome -psn_0_725169\n"
     ]
    }
   ],
   "source": [
    "!ps aux | head -n 5"
   ]
  },
  {
   "cell_type": "markdown",
   "metadata": {},
   "source": [
    "* Sorting the proccess"
   ]
  },
  {
   "cell_type": "markdown",
   "metadata": {},
   "source": [
    "Then let's display the top five proesses, in terms of the perceentage of CPU memory consumed by the proccess."
   ]
  },
  {
   "cell_type": "markdown",
   "metadata": {},
   "source": [
    "> Remember to include the `n` character because we are sorting by a number, and use a reverse sort."
   ]
  },
  {
   "cell_type": "code",
   "execution_count": 13,
   "metadata": {},
   "outputs": [
    {
     "name": "stdout",
     "output_type": "stream",
     "text": [
      "jeff              8311  15.9  2.7  9016868 225788   ??  R    11:25AM  18:41.83 /Applications/Google Chrome.app/Contents/Frameworks/Google Chrome Framework.framework/Versions/87.0.4280.141/Helpers/Google Chrome Helper (Renderer).app/Contents/MacOS/Google Chrome Helper (Renderer) --type=renderer --field-trial-handle=1718379636,9398332179242830877,3375792530959781848,131072 --lang=en-US --num-raster-threads=2 --enable-zero-copy --enable-gpu-memory-buffer-compositor-resources --enable-main-frame-before-activation --renderer-client-id=183 --no-v8-untrusted-code-mitigations --shared-files --seatbelt-client=128\n",
      "jeff              1401  11.1  0.2  6554064  16560   ??  R    Sun03PM 138:07.00 com.docker.hyperkit -A -u -F vms/0/hyperkit.pid -c 2 -m 2048M -s 0:0,hostbridge -s 31,lpc -s 1:0,virtio-vpnkit,path=vpnkit.eth.sock,uuid=b7f764a3-aebc-4f9e-b96d-f889c73e65ad -U 36fb37aa-cad2-49b6-a57a-5564b49c36d4 -s 2:0,virtio-blk,/Users/jeff/Library/Containers/com.docker.docker/Data/vms/0/data/Docker.raw -s 3,virtio-sock,guest_cid=3,path=vms/0,guest_forwards=2376;1525 -s 4,ahci-cd,/Applications/Docker.app/Contents/Resources/linuxkit/docker-desktop.iso -s 5,virtio-rnd -l com1,null,asl,log=vms/0/console-ring -f bootrom,/Applications/Docker.app/Contents/Resources/uefi/UEFI.fd,,\n",
      "jeff             13412   4.0  0.6  4385780  46668   ??  Ss    8:00PM   0:01.38 /Users/jeff/opt/miniconda3/envs/minimal_ds/bin/python -m ipykernel_launcher -f /Users/jeff/Library/Jupyter/runtime/kernel-2750fc40-f657-4232-a4ca-b26435543213.json\n",
      "sort: Broken pipe\n"
     ]
    }
   ],
   "source": [
    "!ps aux | sort -r -nk3 | head -n 3"
   ]
  },
  {
   "cell_type": "markdown",
   "metadata": {},
   "source": [
    "We can also sort our proccesses in top.  For example, if we want to sort by memory usage, we can do so with the following command:"
   ]
  },
  {
   "cell_type": "markdown",
   "metadata": {},
   "source": [
    "`top -o MEM`"
   ]
  },
  {
   "cell_type": "markdown",
   "metadata": {},
   "source": [
    "* Searching for a process"
   ]
  },
  {
   "cell_type": "markdown",
   "metadata": {},
   "source": [
    "Now let's boot up a flask application, then find the process id using `grep`.  To do this, we should search for the file that kicked off our process.  So here, search the list of processes for `app.py`."
   ]
  },
  {
   "cell_type": "markdown",
   "metadata": {},
   "source": [
    "* Terminating a process"
   ]
  },
  {
   "cell_type": "markdown",
   "metadata": {},
   "source": [
    "Then allow the process to shutdown by killing the process.  We should see a `terminated` command where our proccess used to be running."
   ]
  },
  {
   "cell_type": "markdown",
   "metadata": {},
   "source": [
    "### Summary"
   ]
  },
  {
   "cell_type": "markdown",
   "metadata": {},
   "source": [
    "In this lesson we practiced working with processes.  We can list our processes with the `ps aux` command, and from there can use piping to select the processes we wish to view.  We also used the `top` program to view our processes, and sorted our processes with by a column with the -o flag, as in `top -o MEM`.  \n",
    "\n",
    "Then we terminated a process by finding the process id, and then using the `kill` command."
   ]
  }
 ],
 "metadata": {
  "kernelspec": {
   "display_name": "Python 3",
   "language": "python",
   "name": "python3"
  },
  "language_info": {
   "codemirror_mode": {
    "name": "ipython",
    "version": 3
   },
   "file_extension": ".py",
   "mimetype": "text/x-python",
   "name": "python",
   "nbconvert_exporter": "python",
   "pygments_lexer": "ipython3",
   "version": "3.9.1"
  }
 },
 "nbformat": 4,
 "nbformat_minor": 4
}
